{
 "cells": [
  {
   "cell_type": "code",
   "execution_count": 3,
   "metadata": {},
   "outputs": [
    {
     "name": "stdout",
     "output_type": "stream",
     "text": [
      "Hola, bienvenido a Python\n",
      "12\n"
     ]
    }
   ],
   "source": [
    "#FUNCIONES\n",
    "\n",
    "#Sintaxis básica\n",
    "def nombre_de_la_funcion(parametros):\n",
    "    # Cuerpo de la función\n",
    "    return #Valor\n",
    "\n",
    "def saludo():\n",
    "    print(\"Hola, bienvenido a Python\")\n",
    "\n",
    "saludo()  # Llamada a la función\n",
    "\n",
    "#Funcion con parámetros \n",
    "def suma(a, b):\n",
    "    return a + b\n",
    "\n",
    "resultado = suma(5, 7)\n",
    "print(resultado)\n"
   ]
  },
  {
   "cell_type": "code",
   "execution_count": 9,
   "metadata": {},
   "outputs": [
    {
     "name": "stdout",
     "output_type": "stream",
     "text": [
      "False\n"
     ]
    }
   ],
   "source": [
    "#1. Escribe una función llamada es_par que reciba un número como argumento y devuelva True si el número es par y False si es impar.\n",
    "\n",
    "def es_par(numero):\n",
    "    return numero % 2 == 0\n",
    "        \n",
    "   \n",
    "resultado = es_par(1)\n",
    "print(resultado)    \n",
    "\n"
   ]
  },
  {
   "cell_type": "code",
   "execution_count": 10,
   "metadata": {},
   "outputs": [
    {
     "name": "stdout",
     "output_type": "stream",
     "text": [
      "16\n"
     ]
    }
   ],
   "source": [
    "#Crea una función llamada area_rectangulo que reciba dos parámetros: ancho y alto, y devuelva el área del rectángulo.\n",
    "\n",
    "def area_rectángulo(ancho,alto):\n",
    "    return ancho * alto\n",
    "\n",
    "resultado = area_rectángulo(8,2)\n",
    "print(resultado)\n"
   ]
  },
  {
   "cell_type": "code",
   "execution_count": 14,
   "metadata": {},
   "outputs": [
    {
     "name": "stdout",
     "output_type": "stream",
     "text": [
      "88\n"
     ]
    }
   ],
   "source": [
    "#3 Escribe una función llamada mayor_de_tres que reciba tres números como parámetros y devuelva el mayor de los tres.\n",
    "\n",
    "def mayor_de_tres(numero1, numero2, numero3):\n",
    "    \n",
    "    if numero1 >= numero2 and numero1 >= numero3:\n",
    "        return numero1\n",
    "    elif numero2 >= numero1 and numero2 >= numero3:\n",
    "        return numero2\n",
    "    else:\n",
    "        return numero3\n",
    "\n",
    "\n",
    "resultado = mayor_de_tres(24,32,88)\n",
    "print(resultado)\n",
    "\n",
    "\n",
    "    \n",
    "    \n",
    "   "
   ]
  },
  {
   "cell_type": "code",
   "execution_count": 16,
   "metadata": {},
   "outputs": [
    {
     "name": "stdout",
     "output_type": "stream",
     "text": [
      "104.0\n"
     ]
    }
   ],
   "source": [
    "#Escribe una función llamada convertir_grados que reciba un número (grados Celsius) y lo convierta a Fahrenheit.\n",
    "\n",
    "def convertir_grados(grados_Celsius):\n",
    "\n",
    "    Fahrenheit = (grados_Celsius * 9/5) + 32\n",
    "    return Fahrenheit\n",
    "\n",
    "resultado = convertir_grados(40)\n",
    "print(resultado)\n"
   ]
  },
  {
   "cell_type": "code",
   "execution_count": null,
   "metadata": {},
   "outputs": [],
   "source": [
    "#FUNCIONES (NIVEL INTERMEDIO)\n",
    "\n",
    "#1. Crea una función llamada sumar_lista que reciba una lista de números como parámetro y devuelva la suma de todos los elementos en la lista. \n",
    "# No puedes usar la función sum() incorporada en Python; debes usar un bucle para sumar los elementos.\n",
    "\n",
    "def sumar_lista([1,2,3,4,5,6,7,8,9,1,-4]):\n",
    "    "
   ]
  }
 ],
 "metadata": {
  "kernelspec": {
   "display_name": "Python 3",
   "language": "python",
   "name": "python3"
  },
  "language_info": {
   "codemirror_mode": {
    "name": "ipython",
    "version": 3
   },
   "file_extension": ".py",
   "mimetype": "text/x-python",
   "name": "python",
   "nbconvert_exporter": "python",
   "pygments_lexer": "ipython3",
   "version": "3.10.11"
  }
 },
 "nbformat": 4,
 "nbformat_minor": 2
}
