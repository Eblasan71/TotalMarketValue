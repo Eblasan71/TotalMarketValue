{
 "cells": [
  {
   "cell_type": "code",
   "execution_count": null,
   "metadata": {},
   "outputs": [],
   "source": [
    "\n",
    "import pandas as pd\n",
    "pd.set_option('display.max_columns', None)\n",
    "\n",
    "file_path = r'C:\\Users\\User\\Downloads\\archive\\NBA_2024_Eastern_Conference_Standing.csv'\n",
    "\n",
    "basket_df = pd.read_csv(file_path)\n",
    "\n",
    "print(basket_df.head())\n",
    "\n"
   ]
  },
  {
   "cell_type": "code",
   "execution_count": 22,
   "metadata": {},
   "outputs": [
    {
     "name": "stdout",
     "output_type": "stream",
     "text": [
      "\n",
      "DataFrame después de eliminar las columnas 13 a 28:\n",
      "   Eastern Conference     W     L   W/L%   SOS  rSOS    SRS Current Remain  \\\n",
      "0      Boston Celtics  58.5  21.5  0.731  3.28 -0.46  16.72     7-2  52-19   \n",
      "1  Philadelphia 76ers  53.1  26.9  0.664 -0.06  0.13  11.19     7-1  46-26   \n",
      "2     New York Knicks  44.7  35.3  0.559  0.84  0.39   5.22     4-4  41-31   \n",
      "3       Atlanta Hawks  43.8  36.2  0.547  0.13  0.39   3.46     5-4  39-32   \n",
      "4      Indiana Pacers  43.3  36.7  0.541 -1.91  0.61   2.54     6-3  37-34   \n",
      "\n",
      "    Best  Worst Playoffs  \n",
      "0   73-7  45-35   100.0%  \n",
      "1  68-12  37-43    99.9%  \n",
      "2  60-20  30-50    87.4%  \n",
      "3  58-22  28-52    82.1%  \n",
      "4  58-22  29-51    79.4%  \n"
     ]
    }
   ],
   "source": [
    "#Eliminamos columnas de la 13 a la 28\n",
    "\n",
    "basket_df = basket_df.drop(basket_df.columns[12:28], axis=1)\n",
    "\n",
    "\n",
    "print(\"\\nDataFrame después de eliminar las columnas 13 a 28:\")\n",
    "print(basket_df.head())\n"
   ]
  },
  {
   "cell_type": "code",
   "execution_count": 37,
   "metadata": {},
   "outputs": [
    {
     "name": "stdout",
     "output_type": "stream",
     "text": [
      "float64\n",
      "Equipo con mayor probabilidad de pasar a los playoffs:\n",
      "Boston Celtics - 100.0%\n",
      "\n",
      "Equipo con menor probabilidad de pasar a los playoffs:\n",
      "Detroit Pistons - 1.9%\n"
     ]
    }
   ],
   "source": [
    "\n",
    "\n",
    "# Verificar el tipo de datos de la columna 'Playoffs'\n",
    "print(basket_df['Playoffs'].dtype)\n",
    "\n",
    "# Convertir la columna 'Playoffs' a cadenas si no es de tipo string\n",
    "basket_df['Playoffs'] = basket_df['Playoffs'].astype(str)\n",
    "\n",
    "# Eliminar el símbolo '%' y convertir a números flotantes\n",
    "basket_df['Playoffs'] = basket_df['Playoffs'].str.rstrip('%').astype(float)\n",
    "\n",
    "# Encontrar el equipo con mayor probabilidad de pasar a los playoffs\n",
    "equipo_mayor_prob = basket_df.loc[basket_df['Playoffs'].idxmax()]\n",
    "\n",
    "# Encontrar el equipo con menor probabilidad de pasar a los playoffs\n",
    "equipo_menor_prob = basket_df.loc[basket_df['Playoffs'].idxmin()]\n",
    "\n",
    "# Imprimir resultados\n",
    "print(\"Equipo con mayor probabilidad de pasar a los playoffs:\")\n",
    "print(f\"{equipo_mayor_prob['Eastern Conference']} - {equipo_mayor_prob['Playoffs']}%\")\n",
    "\n",
    "print(\"\\nEquipo con menor probabilidad de pasar a los playoffs:\")\n",
    "print(f\"{equipo_menor_prob['Eastern Conference']} - {equipo_menor_prob['Playoffs']}%\")\n",
    "\n",
    "\n",
    "\n",
    "\n"
   ]
  },
  {
   "cell_type": "code",
   "execution_count": null,
   "metadata": {},
   "outputs": [],
   "source": [
    "import pandas as pd\n",
    "\n",
    "df_atlantico = {}\n",
    "\n",
    "\n",
    "\n",
    "df_central = {}\n",
    "\n",
    "\n",
    "\n",
    "\n",
    "df_sureste = {}"
   ]
  }
 ],
 "metadata": {
  "kernelspec": {
   "display_name": "Python 3",
   "language": "python",
   "name": "python3"
  },
  "language_info": {
   "codemirror_mode": {
    "name": "ipython",
    "version": 3
   },
   "file_extension": ".py",
   "mimetype": "text/x-python",
   "name": "python",
   "nbconvert_exporter": "python",
   "pygments_lexer": "ipython3",
   "version": "3.10.11"
  }
 },
 "nbformat": 4,
 "nbformat_minor": 2
}
