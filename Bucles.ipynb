{
 "cells": [
  {
   "cell_type": "code",
   "execution_count": null,
   "metadata": {},
   "outputs": [],
   "source": [
    "#BUCLES\n",
    "\n",
    "#Bucle FOR: Recorre una secuencia (como una lista, cadena o rango) y ejecuta un bloque de código para cada elemento de la secuencia.\n",
    "\n",
    "for elemento in secuencia: \n",
    "    # Código que se ejecuta en cada iteración\n",
    "\n",
    "#Ejemplo\n",
    "\n",
    "for i in range (5):\n",
    "    print(i)"
   ]
  },
  {
   "cell_type": "code",
   "execution_count": null,
   "metadata": {},
   "outputs": [],
   "source": [
    "\n",
    "#1. Imprimir números del 1 al 10 utilizando el bucle FOR\n",
    "\n",
    "for i in range(1,11):\n",
    "    print(i)"
   ]
  },
  {
   "cell_type": "code",
   "execution_count": null,
   "metadata": {},
   "outputs": [],
   "source": [
    "#2. Imprimir los elementos de una lista utilizando FOR\n",
    "\n",
    "lista = [12, \"Edgar\", -275]\n",
    "for elemento in (lista):\n",
    "    print(elemento)\n",
    "\n"
   ]
  },
  {
   "cell_type": "code",
   "execution_count": null,
   "metadata": {},
   "outputs": [],
   "source": [
    "\n",
    "#3. Imprimir números pares del 1 al 20 usando un bucle while:\n",
    "numero = 0\n",
    "while numero <= 20:\n",
    "    if numero % 2 == 0:\n",
    "        print(numero)\n",
    "    numero += 1\n",
    "\n",
    "\n",
    "\n",
    "#Usando bucle FOR\n",
    "\n",
    "numero = 0\n",
    "for i in range(1,21):\n",
    "      if i <=20 and i % 2 == 0:\n",
    "           print(i)"
   ]
  },
  {
   "cell_type": "code",
   "execution_count": null,
   "metadata": {},
   "outputs": [],
   "source": [
    "#4. Sumar los números del 1 al 100 usando un bucle FOR\n",
    "\n",
    "suma = 0\n",
    "#for i in range(1,101):\n",
    "     #suma += i\n",
    "     #suma_calulada = suma + i\n",
    "    \n",
    "    \n",
    "    \n",
    "#print(suma)\n",
    "\n",
    "suma = 0\n",
    "for i in range(1, 101):\n",
    "    suma += i\n",
    "    print(f\"La suma acumulada es {i}+{suma}\")\n",
    "\n",
    "\n"
   ]
  },
  {
   "cell_type": "code",
   "execution_count": null,
   "metadata": {},
   "outputs": [],
   "source": [
    "#5. \n",
    "\n",
    "cadena = \"Si bien hubo muchos periodistas desde Argentina que confirmaron que hay un interés \"\n",
    "contador = 0\n",
    "for caracter in cadena:\n",
    "    if caracter == 't':\n",
    "        contador += 1\n",
    "print(contador) "
   ]
  }
 ],
 "metadata": {
  "kernelspec": {
   "display_name": "Python 3",
   "language": "python",
   "name": "python3"
  },
  "language_info": {
   "codemirror_mode": {
    "name": "ipython",
    "version": 3
   },
   "file_extension": ".py",
   "mimetype": "text/x-python",
   "name": "python",
   "nbconvert_exporter": "python",
   "pygments_lexer": "ipython3",
   "version": "3.10.11"
  }
 },
 "nbformat": 4,
 "nbformat_minor": 2
}
