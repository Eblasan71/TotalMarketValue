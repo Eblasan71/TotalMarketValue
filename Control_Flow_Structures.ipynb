{
 "cells": [
  {
   "cell_type": "code",
   "execution_count": 6,
   "metadata": {},
   "outputs": [
    {
     "name": "stdout",
     "output_type": "stream",
     "text": [
      "Cliente A es un cliente Premium\n",
      "Cliente B es un cliente Riesgo\n",
      "Cliente C es un cliente Estándar\n",
      "Cliente D es un cliente Estándar\n",
      "Cliente E es un cliente Riesgo\n"
     ]
    }
   ],
   "source": [
    "# Ejemplo de datos de clientes\n",
    "clientes = [\n",
    "    {\"nombre\": \"Cliente A\", \"total_gastado\": 12000, \"puntuacion_credito\": 780},\n",
    "    {\"nombre\": \"Cliente B\", \"total_gastado\": 3000, \"puntuacion_credito\": 620},\n",
    "    {\"nombre\": \"Cliente C\", \"total_gastado\": 8000, \"puntuacion_credito\": 700},\n",
    "    {\"nombre\": \"Cliente D\", \"total_gastado\": 5000, \"puntuacion_credito\": 655},\n",
    "    {\"nombre\": \"Cliente E\", \"total_gastado\": 2000, \"puntuacion_credito\": 580}\n",
    "]\n",
    "\n",
    "# Función para categorizar clientes\n",
    "def categorizar_cliente(cliente):\n",
    "    if cliente[\"total_gastado\"] > 10000 and cliente[\"puntuacion_credito\"] >= 750:\n",
    "        return \"Premium\"\n",
    "    elif 5000 <= cliente[\"total_gastado\"] <= 10000 and cliente[\"puntuacion_credito\"] >= 650:\n",
    "        return \"Estándar\"\n",
    "    else:\n",
    "        return \"Riesgo\"\n",
    "\n",
    "# Categorización de cada cliente\n",
    "for cliente in clientes:\n",
    "    categoria = categorizar_cliente(cliente)\n",
    "    print(f'{cliente[\"nombre\"]} es un cliente {categoria}')"
   ]
  },
  {
   "cell_type": "code",
   "execution_count": 20,
   "metadata": {},
   "outputs": [
    {
     "name": "stdout",
     "output_type": "stream",
     "text": [
      "Puede asistir al evento\n"
     ]
    }
   ],
   "source": [
    "\n",
    "#ESTRUCTURAS DE FLUJOS DE CONTROL (IF, ELIF,ELSE) Y ALGUNOS OPERADORES LÓGICOS \n",
    "\n",
    "#if condición_1:\n",
    "    # Código si condición_1 es verdadera\n",
    "#elif condición_2:\n",
    "    # Código si condición_2 es verdadera\n",
    "#else:\n",
    "    # Código si ninguna condición fue verdadera\n",
    "\n",
    "\n",
    "\n",
    "Edad = int(input(\"Ingrese su Edad\") )\n",
    "\n",
    "if Edad < 18:\n",
    "\n",
    "    print(\"No está apto para ir al evento\")\n",
    "\n",
    "elif 18 <= Edad < 65:\n",
    "    print (\"Puede asistir al evento\")\n",
    "\n",
    "else:\n",
    "\n",
    "    print(\"Tenga en cuenta su seguridad en el evento, le recomendamos asistir con alguien más\")    "
   ]
  },
  {
   "cell_type": "code",
   "execution_count": 23,
   "metadata": {},
   "outputs": [
    {
     "name": "stdout",
     "output_type": "stream",
     "text": [
      "Es número impar\n"
     ]
    }
   ],
   "source": [
    "#EJERCICIOS DE ESTRUCTURA DE CONTROL \n",
    "\n",
    "# 1. Escribe un programa que pregunte al usuario un número y verifique si es par o impar. Usa el operador if y el operador % (módulo).\n",
    "\n",
    "numero = int(input(\"Ingrese un número\"))\n",
    "\n",
    "if numero % 2 == 0:\n",
    "    print(\"Es un número par\")\n",
    "else:\n",
    "    print(\"Es número impar\")    \n",
    "\n",
    "\n"
   ]
  },
  {
   "cell_type": "code",
   "execution_count": 24,
   "metadata": {},
   "outputs": [
    {
     "name": "stdout",
     "output_type": "stream",
     "text": [
      "Fuera del rango\n"
     ]
    }
   ],
   "source": [
    "#2. Crea un programa que verifique si un número ingresado por el usuario está dentro del rango de 1 a 100. Si está en ese rango, imprime \"Dentro del rango\". De lo contrario, imprime \"Fuera del rango\".\n",
    "\n",
    "Numero = int(input(\"Ingrese número\"))\n",
    "\n",
    "if 1 <= Numero <= 1000:\n",
    "    print(\"Dentro del rango\")\n",
    "\n",
    "else:\n",
    "    print(\"Fuera del rango\")    "
   ]
  },
  {
   "cell_type": "code",
   "execution_count": 56,
   "metadata": {},
   "outputs": [
    {
     "name": "stdout",
     "output_type": "stream",
     "text": [
      "Hay al menos un número negativo en la lista.\n"
     ]
    }
   ],
   "source": [
    "#3. Escribe un programa que reciba una lista de números y verifique si todos los números son positivos. Usa el operador in para verificar si hay algún número negativo en la lista.\n",
    "\n",
    "a = [1, -2, 3, 4, 5]\n",
    "\n",
    "# Lista de números negativos\n",
    "negativos = [-1, -2, -3, -4, -5, -6, -7, -8, -9]\n",
    "\n",
    "# Verificar si algún número negativo está en la lista\n",
    "if any(num in a for num in negativos):\n",
    "    print(\"Hay al menos un número negativo en la lista.\")\n",
    "else:\n",
    "    print(\"No hay números negativos en la lista.\")"
   ]
  },
  {
   "cell_type": "code",
   "execution_count": 41,
   "metadata": {},
   "outputs": [
    {
     "name": "stdout",
     "output_type": "stream",
     "text": [
      "No está apto para votar\n"
     ]
    }
   ],
   "source": [
    "#4. Crea un programa que determine si una persona es elegible para votar. El usuario debe ingresar su edad, y el programa debe verificar si tiene al menos 18 años para poder votar.\n",
    "\n",
    "Edad = int(input(\"Ingrese su Edad\"))\n",
    "\n",
    "if Edad > 18:\n",
    "    print(\"Puede votar en las próximas elecciones\")\n",
    "\n",
    "else:\n",
    "    print(\"No está apto para votar\")    "
   ]
  },
  {
   "cell_type": "code",
   "execution_count": 55,
   "metadata": {},
   "outputs": [
    {
     "name": "stdout",
     "output_type": "stream",
     "text": [
      "El número 3 es el mayor\n"
     ]
    }
   ],
   "source": [
    "#Tarea 5: \n",
    "\n",
    "numero1 = float(input(\"Ingresa el primer número\"))\n",
    "numero2 = float(input(\"Ingresa el segundo número\"))  \n",
    "numero3 = float(input(\"Ingresa el tercer número\"))\n",
    "\n",
    "if numero1 > numero2 and numero1 > numero3:\n",
    "    print(\"El número 1 es mayor\")\n",
    "elif numero2 > numero1 and numero2 > numero3:\n",
    "    print(\"El número 2 es mayor\")\n",
    "else:\n",
    "    print(\"El número 3 es el mayor\")    \n",
    "\n",
    "\n",
    "\n",
    "\n"
   ]
  }
 ],
 "metadata": {
  "kernelspec": {
   "display_name": "Python 3",
   "language": "python",
   "name": "python3"
  },
  "language_info": {
   "codemirror_mode": {
    "name": "ipython",
    "version": 3
   },
   "file_extension": ".py",
   "mimetype": "text/x-python",
   "name": "python",
   "nbconvert_exporter": "python",
   "pygments_lexer": "ipython3",
   "version": "3.10.11"
  }
 },
 "nbformat": 4,
 "nbformat_minor": 2
}
